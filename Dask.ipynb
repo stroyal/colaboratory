{
  "nbformat": 4,
  "nbformat_minor": 0,
  "metadata": {
    "colab": {
      "provenance": [],
      "toc_visible": true,
      "mount_file_id": "1RLL4A6U8XTR7MZFmBZFfQRkHpxLadmtN",
      "authorship_tag": "ABX9TyMac82X5zdZCI/0Ss3didtS",
      "include_colab_link": true
    },
    "kernelspec": {
      "name": "python3",
      "display_name": "Python 3"
    },
    "language_info": {
      "name": "python"
    }
  },
  "cells": [
    {
      "cell_type": "markdown",
      "metadata": {
        "id": "view-in-github",
        "colab_type": "text"
      },
      "source": [
        "<a href=\"https://colab.research.google.com/github/stroyal/colaboratory/blob/main/Dask.ipynb\" target=\"_parent\"><img src=\"https://colab.research.google.com/assets/colab-badge.svg\" alt=\"Open In Colab\"/></a>"
      ]
    },
    {
      "cell_type": "markdown",
      "source": [
        "# Introduction\n",
        "\n",
        "## Install packages"
      ],
      "metadata": {
        "id": "CctpQKqSCeuh"
      }
    },
    {
      "cell_type": "code",
      "source": [
        "%%bash\n",
        "pip install \"dask[complete]\""
      ],
      "metadata": {
        "id": "34DWpgpGBPEI"
      },
      "execution_count": null,
      "outputs": []
    },
    {
      "cell_type": "markdown",
      "source": [
        "## Import packages"
      ],
      "metadata": {
        "id": "UqY3A5GuCrVl"
      }
    },
    {
      "cell_type": "code",
      "source": [
        "import dask"
      ],
      "metadata": {
        "id": "pAAWu7YuCyKa"
      },
      "execution_count": 1,
      "outputs": []
    },
    {
      "cell_type": "code",
      "source": [],
      "metadata": {
        "id": "DNThmhct7Idr"
      },
      "execution_count": null,
      "outputs": []
    }
  ]
}